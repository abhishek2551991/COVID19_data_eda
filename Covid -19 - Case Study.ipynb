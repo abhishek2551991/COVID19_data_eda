{
 "cells": [
  {
   "cell_type": "markdown",
   "id": "e2d902de-8852-4ce3-b51b-71108f63084a",
   "metadata": {},
   "source": [
    "## Background"
   ]
  },
  {
   "cell_type": "raw",
   "id": "b1511d6d-64a2-4e02-88de-cb5657df48d4",
   "metadata": {},
   "source": [
    "# confirmed cases\n",
    "\n",
    "# Death data set\n",
    "\n",
    "# Recovered Cases"
   ]
  },
  {
   "cell_type": "markdown",
   "id": "afbe250a-4ba1-4a94-a428-d3efa2f7b256",
   "metadata": {},
   "source": [
    "# Objective of the Case Study\n",
    "\n",
    "> Practical applications of python\n",
    "\n",
    "> Generate Insights : To provide insight into the dynamics of COVID 19 spread\n",
    "\n",
    "> Practice and skills Development : Pandas - data manipulation, matplotlib and seaborn for visualization, Numpy for numerical data processing \n",
    "\n",
    "\n",
    "\n"
   ]
  },
  {
   "cell_type": "raw",
   "id": "ddf83a0e-84ce-47ef-976b-d04e20303f30",
   "metadata": {},
   "source": [
    "# Question 1 : Data Loading: How to load data for all 3 sheets"
   ]
  },
  {
   "cell_type": "raw",
   "id": "e05148c5-cda5-4e04-bf3a-b9da7b354248",
   "metadata": {},
   "source": [
    "# Question 2 : Data Exploration\n",
    "\n",
    "> First understand the structure of the dataset - rows columns, data types, values.\n",
    "\n",
    "> Generate plots of confirmed cases over time for top countries\n",
    "\n",
    "> Generate similar plots for China and other countries"
   ]
  },
  {
   "cell_type": "raw",
   "id": "8117fed7-d054-4c36-92bc-b0a6b57a51e9",
   "metadata": {},
   "source": [
    "# Question 3 : Data Cleaning\n",
    "\n",
    "> Identify the missing values and replace them using a suitable imputation method"
   ]
  },
  {
   "cell_type": "raw",
   "id": "daefa236-1f82-4e33-a7e5-c3e33698519a",
   "metadata": {},
   "source": [
    "# Question 4 : Data cleaning and preparation\n",
    "\n",
    "> data type correction\n",
    "> outlier treatment\n",
    "> adding feature"
   ]
  },
  {
   "cell_type": "raw",
   "id": "5ef0985d-743f-45ab-88a6-58f568b042e1",
   "metadata": {},
   "source": [
    "# Question 5 : Independent data set analysis and when did it occur\n",
    "\n",
    "> Analyze the peak number of daily new cases in Germany, India, USA, France, Italy. Which country experienced the highest single-day surge and when did it occur\n",
    "\n",
    "> Compare the recovery rate (recoveries/confirmed) between Canada and Australia as of Dec 31. Which country showed better management of the pandemic acc. to the metrics.\n",
    "\n",
    "> What is the distribution of death rate (deaths/confirmed cases) among provinces in Canada"
   ]
  },
  {
   "cell_type": "raw",
   "id": "f813be0d-c025-4392-9d95-8fad2bfe1e24",
   "metadata": {},
   "source": [
    "# Question 6 : Data transformation"
   ]
  },
  {
   "cell_type": "raw",
   "id": "4214405c-8781-43a8-9847-29c1cacf2158",
   "metadata": {},
   "source": [
    "# Question 7 : Data Merging"
   ]
  },
  {
   "cell_type": "raw",
   "id": "cffbe752-0471-4569-979a-454aec5c646b",
   "metadata": {},
   "source": [
    "# Question 8 : Combined Analysis"
   ]
  },
  {
   "cell_type": "code",
   "execution_count": null,
   "id": "accfdb65-0c6b-48ba-af88-74e5f9e91a71",
   "metadata": {},
   "outputs": [],
   "source": [
    "import pandas as pd\n",
    "deaths = pd.read_csv(\"C:/Users/abhis/OneDrive/Desktop/Coding Ninjas/Python/Case study - covid 19/covid_19_deaths_v1.csv\")\n",
    "confirmed_cases = pd.read_csv(\"C:/Users/abhis/OneDrive/Desktop/Coding Ninjas/Python/Case study - covid 19/covid_19_confirmed_v1.csv\")\n",
    "recovered_cases = pd.read_csv(\"C:/Users/abhis/OneDrive/Desktop/Coding Ninjas/Python/Case study - covid 19/covid_19_recovered_v1.csv\")"
   ]
  },
  {
   "cell_type": "code",
   "execution_count": null,
   "id": "c751d06c-eae0-423b-93e0-597afa0e9bdc",
   "metadata": {},
   "outputs": [],
   "source": [
    "confirmed_cases.shape "
   ]
  },
  {
   "cell_type": "code",
   "execution_count": null,
   "id": "873c01a5-9680-4de2-a64a-7f15c917ca5d",
   "metadata": {},
   "outputs": [],
   "source": [
    "deaths.shape"
   ]
  },
  {
   "cell_type": "code",
   "execution_count": null,
   "id": "f6b13427-d0bd-47dc-bfcc-d43a442df4e9",
   "metadata": {},
   "outputs": [],
   "source": [
    "recovered_cases.shape"
   ]
  },
  {
   "cell_type": "code",
   "execution_count": null,
   "id": "031661a8-c0c0-4600-bb9b-87b8769a3d37",
   "metadata": {},
   "outputs": [],
   "source": [
    "confirmed_cases.head()"
   ]
  },
  {
   "cell_type": "code",
   "execution_count": null,
   "id": "16247683-3fc9-436f-a7c9-a3d2122ac5e6",
   "metadata": {},
   "outputs": [],
   "source": [
    "deaths.head()"
   ]
  },
  {
   "cell_type": "code",
   "execution_count": null,
   "id": "574278b9-6c93-4ae0-94b9-3cd73f5173e4",
   "metadata": {},
   "outputs": [],
   "source": [
    "recovered_cases.head()"
   ]
  },
  {
   "cell_type": "code",
   "execution_count": null,
   "id": "4d777564-440d-4321-87dc-0d44c1512d21",
   "metadata": {},
   "outputs": [],
   "source": [
    "pd.set_option('display.max_columns', None) # to see all the columns # NONE can be replaced by any numerical value to show that number of columns\n",
    "confirmed_cases.head()"
   ]
  },
  {
   "cell_type": "code",
   "execution_count": null,
   "id": "37efb6f7-bf6f-4a0a-9f1c-b4ed0c1de595",
   "metadata": {},
   "outputs": [],
   "source": [
    "confirmed_cases.columns  # to see the columns name only"
   ]
  },
  {
   "cell_type": "code",
   "execution_count": null,
   "id": "c8a4f2fd-7967-479d-835d-ac72543b3966",
   "metadata": {},
   "outputs": [],
   "source": [
    "print(list(confirmed_cases.columns)) # to see the columns name only"
   ]
  },
  {
   "cell_type": "code",
   "execution_count": null,
   "id": "81ce0bc3-093a-4bd5-a71f-1e4d02751207",
   "metadata": {},
   "outputs": [],
   "source": [
    "deaths.info()"
   ]
  },
  {
   "cell_type": "code",
   "execution_count": null,
   "id": "7f186836-f184-4c5a-ab9a-f01ddc8e01b7",
   "metadata": {},
   "outputs": [],
   "source": [
    "confirmed_cases.info()"
   ]
  },
  {
   "cell_type": "code",
   "execution_count": null,
   "id": "53a799e4-632e-430a-be17-7710f5b31523",
   "metadata": {},
   "outputs": [],
   "source": [
    "recovered_cases.info()"
   ]
  },
  {
   "cell_type": "code",
   "execution_count": null,
   "id": "0434cd5e-7d16-4e97-8b5c-c664555342ca",
   "metadata": {},
   "outputs": [],
   "source": [
    "print(deaths.isnull().sum().to_string())"
   ]
  },
  {
   "cell_type": "code",
   "execution_count": null,
   "id": "a397c225-9319-4f2e-a9c4-96de3b317b28",
   "metadata": {},
   "outputs": [],
   "source": [
    "print(confirmed_cases.isnull().sum().to_string())"
   ]
  },
  {
   "cell_type": "code",
   "execution_count": null,
   "id": "25b5e9cc-6dbb-4b36-88f7-c385dd0e88ed",
   "metadata": {},
   "outputs": [],
   "source": [
    "print(recovered_cases.isnull().sum().to_string())"
   ]
  },
  {
   "cell_type": "raw",
   "id": "3374eac8-f31c-4b91-b0e1-087342eb8b1d",
   "metadata": {},
   "source": [
    "# Generate plots of confirmed cases over time for top countries"
   ]
  },
  {
   "cell_type": "code",
   "execution_count": null,
   "id": "374ff0be-4557-42b3-abd3-2663064379e7",
   "metadata": {},
   "outputs": [],
   "source": [
    "top_countries_all_colums = confirmed_cases.groupby('Country/Region').sum().nlargest(3,confirmed_cases.columns[-1])"
   ]
  },
  {
   "cell_type": "code",
   "execution_count": null,
   "id": "ba587ec6-f2ca-4406-a65c-56a156bb1c1b",
   "metadata": {},
   "outputs": [],
   "source": [
    "top_countries_all_colums"
   ]
  },
  {
   "cell_type": "code",
   "execution_count": null,
   "id": "def18e48-04b5-4be4-9231-5cbae2e8819d",
   "metadata": {},
   "outputs": [],
   "source": [
    "top_countries = confirmed_cases.groupby('Country/Region').sum().nlargest(3,confirmed_cases.columns[-1]).index\n",
    "top_countries"
   ]
  },
  {
   "cell_type": "code",
   "execution_count": null,
   "id": "e93002ee-36af-44e0-a6e5-d08d9b178719",
   "metadata": {},
   "outputs": [],
   "source": [
    "top_country = confirmed_cases.groupby('Country/Region').sum().nlargest(3,confirmed_cases.columns[-1]).index[0]\n",
    "top_country"
   ]
  },
  {
   "cell_type": "code",
   "execution_count": null,
   "id": "54201d56-8546-4321-93c9-3a13e015bc86",
   "metadata": {},
   "outputs": [],
   "source": [
    "country_data = confirmed_cases[confirmed_cases['Country/Region']==top_country].iloc[:,4:]\n",
    "country_data"
   ]
  },
  {
   "cell_type": "code",
   "execution_count": null,
   "id": "8a94e3ff-c3ff-4441-93b8-4c9cf939ef51",
   "metadata": {},
   "outputs": [],
   "source": [
    "total_cases = country_data.sum()\n",
    "total_cases"
   ]
  },
  {
   "cell_type": "code",
   "execution_count": null,
   "id": "abf75820-1d4a-49b7-9680-67858ee5155c",
   "metadata": {},
   "outputs": [],
   "source": [
    "type(total_cases)"
   ]
  },
  {
   "cell_type": "code",
   "execution_count": null,
   "id": "f3427953-2e81-48e7-b764-fdcc0e37b6f9",
   "metadata": {},
   "outputs": [],
   "source": [
    "import matplotlib.pyplot as plt\n",
    "plt.figure(figsize= (20,10))\n",
    "plt.plot(total_cases.index,total_cases.values, label = top_country)\n",
    "plt.xticks(rotation=45)\n",
    "plt.yticks(rotation=45)\n",
    "plt.xlabel(\"Date\")\n",
    "plt.xticks(\"Cumulative confirmed cases\")\n",
    "plt.legend()"
   ]
  },
  {
   "cell_type": "code",
   "execution_count": null,
   "id": "59595b99-a279-41d0-86d8-14f9a3968d46",
   "metadata": {},
   "outputs": [],
   "source": [
    "top_countries = confirmed_cases.groupby('Country/Region').sum().nlargest(3,confirmed_cases.columns[-1]).index\n",
    "top_countries"
   ]
  },
  {
   "cell_type": "code",
   "execution_count": null,
   "id": "c22e5e90-62e1-4ab7-a743-545913e51d2e",
   "metadata": {},
   "outputs": [],
   "source": [
    "for country in top_countries:\n",
    "    confirmed_cases[confirmed_cases['Country/Region']==country].iloc[:,4:]\n",
    "    plt.figure(figsize= (20,10))\n",
    "    plt.plot(total_cases.index,total_cases.values, label = country)\n",
    "    plt.xticks(rotation=45)\n",
    "    plt.yticks(rotation=45)\n",
    "    plt.xlabel(\"Date\")\n",
    "    plt.xticks(\"Cumulative confirmed cases\")\n",
    "    plt.legend()"
   ]
  },
  {
   "cell_type": "code",
   "execution_count": null,
   "id": "7bcb3097-75fc-4a7c-9392-fd9e06a6acfc",
   "metadata": {},
   "outputs": [],
   "source": [
    "china_data = confirmed_cases[confirmed_cases['Country/Region']=='China']\n",
    "china_data.head()"
   ]
  },
  {
   "cell_type": "code",
   "execution_count": null,
   "id": "d790c3f9-95e4-4504-97d1-d2a541f05ab7",
   "metadata": {},
   "outputs": [],
   "source": [
    "plt.figure(figsize = (17,8))\n",
    "china_data.set_index('Province/State').iloc[:,3:].T.plot()\n",
    "plt.xlabel(\"Date\")\n",
    "plt.ylabel(\"Cumulative Confirmed Cases\")\n",
    "plt.legend().remove()"
   ]
  },
  {
   "cell_type": "markdown",
   "id": "f84a1f07-8bad-4260-8965-2c37a200be2b",
   "metadata": {},
   "source": [
    "# Replacing Missing Values"
   ]
  },
  {
   "cell_type": "code",
   "execution_count": null,
   "id": "fe87f5cf-0be4-43ed-b8d0-b7e717fdc055",
   "metadata": {},
   "outputs": [],
   "source": [
    "death_missing = deaths.isnull().any().any()\n",
    "death_missing"
   ]
  },
  {
   "cell_type": "code",
   "execution_count": null,
   "id": "e82d2d2c-b763-497f-9beb-ddc9307ad911",
   "metadata": {},
   "outputs": [],
   "source": [
    "recovered_cases_missing = recovered_cases.isnull().any().any()\n",
    "recovered_cases_missing"
   ]
  },
  {
   "cell_type": "code",
   "execution_count": null,
   "id": "3e5fc95d-670a-49af-bff1-f13c31855cb2",
   "metadata": {},
   "outputs": [],
   "source": [
    "deaths.replace('',pd.NA,inplace=True) \n",
    "\n",
    "# replacing empty sting by NA # empty strings are not considered as missing values by pandas in isnull, dropna()"
   ]
  },
  {
   "cell_type": "code",
   "execution_count": null,
   "id": "936e57e9-5510-4fb4-9987-b4d94f6e827f",
   "metadata": {},
   "outputs": [],
   "source": [
    "deaths.head()"
   ]
  },
  {
   "cell_type": "code",
   "execution_count": null,
   "id": "e3533051-0c70-4109-8fdd-0ed3e2af6cc9",
   "metadata": {},
   "outputs": [],
   "source": [
    "missing_values_deaths_count = deaths.isnull().sum()"
   ]
  },
  {
   "cell_type": "code",
   "execution_count": null,
   "id": "21c3cee0-5ce3-491e-93ad-4ac220a9f936",
   "metadata": {},
   "outputs": [],
   "source": [
    "missing_values_deaths_count.sort_values(ascending=False)"
   ]
  },
  {
   "cell_type": "code",
   "execution_count": null,
   "id": "a10204d8-4515-4431-845f-169c09d52167",
   "metadata": {},
   "outputs": [],
   "source": [
    "recovered_cases.replace('',pd.NA,inplace=True) \n",
    "recovered_cases.head()"
   ]
  },
  {
   "cell_type": "code",
   "execution_count": null,
   "id": "6e3a21a3-48c0-4cf9-ab9d-0442ec3ab0e6",
   "metadata": {},
   "outputs": [],
   "source": [
    "missing_values_recovered_count = recovered_cases.isnull().sum()"
   ]
  },
  {
   "cell_type": "code",
   "execution_count": null,
   "id": "fdea6158-e4b1-4ad8-85fa-dcfd17f120c0",
   "metadata": {},
   "outputs": [],
   "source": [
    "missing_values_recovered_count.sort_values(ascending=False)"
   ]
  },
  {
   "cell_type": "code",
   "execution_count": null,
   "id": "da0ad0f3-5e49-4041-b855-771fa55e27ac",
   "metadata": {},
   "outputs": [],
   "source": [
    "recovered_cases.columns = recovered_cases.iloc[0]\n",
    "recovered_cases.head()"
   ]
  },
  {
   "cell_type": "code",
   "execution_count": null,
   "id": "b81cff59-2017-49dd-96dd-66c9f3fc97b0",
   "metadata": {},
   "outputs": [],
   "source": [
    "recovered_cases = recovered_cases.drop(0).reset_index(drop=True)"
   ]
  },
  {
   "cell_type": "code",
   "execution_count": null,
   "id": "86dfa1db-3c7e-423d-a75b-684de64aa205",
   "metadata": {},
   "outputs": [],
   "source": [
    "recovered_cases.head()"
   ]
  },
  {
   "cell_type": "code",
   "execution_count": null,
   "id": "312dd1cf-5a7c-4328-b164-b1c7233b5e60",
   "metadata": {},
   "outputs": [],
   "source": [
    "deaths.columns = deaths.iloc[0]\n",
    "deaths = deaths.drop(0).reset_index(drop=True)\n",
    "deaths.head()"
   ]
  },
  {
   "cell_type": "code",
   "execution_count": null,
   "id": "dfebdbdd-7b11-4c21-b089-a21a8c7d7ebe",
   "metadata": {},
   "outputs": [],
   "source": [
    "mode_value = deaths['Province/State'].mode()[0]\n",
    "deaths['Province/State'].fillna(mode_value, inplace = True)\n",
    "deaths.fillna(method='ffill', inplace=True)"
   ]
  },
  {
   "cell_type": "code",
   "execution_count": null,
   "id": "76316ec2-7f6e-44ea-8fb5-7b2f0c41b9ac",
   "metadata": {},
   "outputs": [],
   "source": [
    "deaths.isnull().any().any()"
   ]
  },
  {
   "cell_type": "code",
   "execution_count": null,
   "id": "83f9693c-15cb-490f-b5b5-d270519704e3",
   "metadata": {},
   "outputs": [],
   "source": [
    "mode_value = recovered_cases['Province/State'].mode()[0]\n",
    "\n",
    "recovered_cases['Province/State'].fillna(mode_value, inplace = True)\n",
    "\n",
    "recovered_cases.fillna(method = 'ffill' , inplace = True)"
   ]
  },
  {
   "cell_type": "code",
   "execution_count": null,
   "id": "cd3af23b-3605-4a87-ac66-903e3986dbf1",
   "metadata": {},
   "outputs": [],
   "source": [
    "recovered_cases.isnull().any().any()"
   ]
  },
  {
   "cell_type": "markdown",
   "id": "67c50924-af7e-4127-bde9-6349502e25da",
   "metadata": {},
   "source": [
    "# Calculate daily new cases for Germany, France and Italy"
   ]
  },
  {
   "cell_type": "code",
   "execution_count": null,
   "id": "0698a120-c84b-48ba-81c6-575538b04914",
   "metadata": {},
   "outputs": [],
   "source": [
    "countries = ['Germany', 'France', 'Italy']\n",
    "daily_new_cases = {}\n",
    "\n",
    "#for country in countries:\n",
    "    #daily_new_cases[country] = confirmed_cases[confirmed_cases['Country/Region']==country] # 1st way\n",
    "#country_data = pd.concat([confirmed_cases[confirmed_cases['Country/Region']==country]for country in countries]) # 2nd way\n",
    "country_data = confirmed_cases[confirmed_cases['Country/Region'].isin(countries)]    # 3rd way"
   ]
  },
  {
   "cell_type": "code",
   "execution_count": null,
   "id": "34eeb88e-1ffe-4490-911a-9be6f449c91c",
   "metadata": {},
   "outputs": [],
   "source": [
    "country_data"
   ]
  },
  {
   "cell_type": "code",
   "execution_count": null,
   "id": "65feba36-34c9-4f5f-a1cb-d8e5090d919d",
   "metadata": {},
   "outputs": [],
   "source": [
    "country_data"
   ]
  },
  {
   "cell_type": "code",
   "execution_count": null,
   "id": "e982c3e7-dd56-43fa-a7ec-8de628ce1444",
   "metadata": {},
   "outputs": [],
   "source": [
    "confirmed_cases['Country/Region'].unique()"
   ]
  },
  {
   "cell_type": "code",
   "execution_count": null,
   "id": "d6f2052c-922b-433e-a546-dc649e6ec5fb",
   "metadata": {},
   "outputs": [],
   "source": [
    "countries = ['Germany', 'France', 'Italy']\n",
    "daily_new_cases = {}\n",
    "\n",
    "for country in countries:\n",
    "    country_data = confirmed_cases[confirmed_cases['Country/Region']==country]\n",
    "    summed_daily_cases = country_data.iloc[:,4:].sum().diff().fillna(0)\n",
    "    daily_new_cases[country] = summed_daily_cases"
   ]
  },
  {
   "cell_type": "code",
   "execution_count": null,
   "id": "72067479-ae07-4902-99a8-4bdff0285d1b",
   "metadata": {},
   "outputs": [],
   "source": [
    "summed_daily_cases"
   ]
  },
  {
   "cell_type": "code",
   "execution_count": null,
   "id": "97890cb3-e741-497b-a20b-98b367c970a6",
   "metadata": {},
   "outputs": [],
   "source": [
    "daily_new_cases"
   ]
  },
  {
   "cell_type": "code",
   "execution_count": null,
   "id": "a78c2e62-b0a4-4cdf-93f1-a7d43b09a34e",
   "metadata": {},
   "outputs": [],
   "source": [
    "# Identify the peak number of daily new cases and when it occured\n",
    "peaks = {}\n",
    "\n",
    "for country,data in daily_new_cases.items():\n",
    "    peak_date = data.idxmax()\n",
    "    peak_cases = data.max()\n",
    "    peaks[country] = (peak_cases,peak_date)\n",
    "\n",
    "print(peaks)"
   ]
  },
  {
   "cell_type": "markdown",
   "id": "db0ce853-0cb2-4203-a13f-76766a872496",
   "metadata": {},
   "source": [
    "# visualize the daily new cases for comparison"
   ]
  },
  {
   "cell_type": "code",
   "execution_count": null,
   "id": "2b108069-ed64-42cf-8dbd-6538f56eecf6",
   "metadata": {
    "scrolled": true
   },
   "outputs": [],
   "source": [
    "import matplotlib.pyplot as plt\n",
    "for country,data in daily_new_cases.items():\n",
    "    plt.plot(data.index,data.values, label = country)\n",
    "    plt.legend()\n",
    "    plt.title(\"Daily New Covid-19 cases\")\n",
    "    plt.xlabel(\"Date\")\n",
    "    plt.ylabel(\"Number of New cases\")\n",
    "    plt.show()"
   ]
  },
  {
   "cell_type": "markdown",
   "id": "6d6c3ddd-bc7e-4b9e-8961-817ae7e0d382",
   "metadata": {},
   "source": [
    "# Recovery rates for Canada, Australia"
   ]
  },
  {
   "cell_type": "code",
   "execution_count": null,
   "id": "0fe3c235-490a-4e80-8673-8fa3990cd15e",
   "metadata": {},
   "outputs": [],
   "source": [
    "recovered_cases.head()"
   ]
  },
  {
   "cell_type": "code",
   "execution_count": null,
   "id": "83fb534b-245f-4667-909d-5dc299a9ab91",
   "metadata": {},
   "outputs": [],
   "source": [
    "confirmed_cases.head()"
   ]
  },
  {
   "cell_type": "code",
   "execution_count": null,
   "id": "088e2c22-4ea9-4952-8a7e-6d83ce69ad38",
   "metadata": {},
   "outputs": [],
   "source": [
    "recovery_rate = {}\n",
    "for country in ['Canada', 'India']:\n",
    "    country_recoveries = pd.to_numeric(recovered_cases[recovered_cases['Country/Region'] == country].iloc[:, 4:].sum(), errors='coerce')\n",
    "    country_cases = pd.to_numeric(confirmed_cases[confirmed_cases['Country/Region'] == country].iloc[:, 4:].sum(), errors='coerce')\n",
    "    recovery_rate[country] = country_recoveries['12/31/20'] / country_cases['12/31/20']"
   ]
  },
  {
   "cell_type": "code",
   "execution_count": null,
   "id": "efe52e20-a3be-4ed8-a4be-ee03045d5f6f",
   "metadata": {},
   "outputs": [],
   "source": [
    "recovery_rate"
   ]
  },
  {
   "cell_type": "raw",
   "id": "a4ad55f3-5080-417b-b402-4fa26a36b063",
   "metadata": {},
   "source": [
    "# alternate way for code line 226 recovery_rate \n",
    "countries = ['Canada','Australia']\n",
    "\n",
    "recovery_cases = {}\n",
    "\n",
    "for country in countries:\n",
    "\n",
    "    country_data = confirmed_cases[confirmed_cases['Country/Region'] == country].iloc[:,4:].sum(axis=0)\n",
    "\n",
    "    country_recoveries= recovered_cases[recovered_cases['Country/Region'] == country].iloc[:,4:].sum(axis=0)\n",
    "\n",
    "    recovery_cases_rate = int(country_recoveries['12/31/20'])/country_data['12/31/20']\n",
    "\n",
    "    recovery_cases[country] = recovery_cases_rate"
   ]
  },
  {
   "cell_type": "raw",
   "id": "19a614e9-7512-42a2-8db2-dd5f08bf84b6",
   "metadata": {},
   "source": [
    "# Recovery rate as calculated by arun \n",
    "recovery_rates = {}\n",
    "\n",
    " \n",
    "\n",
    "for country in ['Canada','India']:\n",
    "\n",
    "    country_cases = confirmed_cases[confirmed_cases['Country/Region'] == country].iloc[:,4:].sum(axis=0)\n",
    "    country_recoveries = recovered_cases[recovered_cases['Country/Region'] == country].iloc[:,4:].sum(axis=0)\n",
    "    country_cases = pd.to_numeric(country_cases, errors = 'coerce')\n",
    "    country_recoveries = pd.to_numeric(country_recoveries, errors = 'coerce')\n",
    "    recovery_rate = country_recoveries['12/31/20'] / country_cases['12/31/20']\n",
    "    recovery_rates[country] = recovery_rate"
   ]
  },
  {
   "cell_type": "code",
   "execution_count": null,
   "id": "5eb22800-5067-4208-ae25-c6fe26411b3a",
   "metadata": {},
   "outputs": [],
   "source": [
    "plt.bar(recovery_rate.keys(), recovery_rate.values(), color=['blue','green'])\n",
    "plt.title('Recovery Rate Comparison on Dec 31st 2020')\n",
    "plt.xlabel('Countries')\n",
    "plt.ylabel('Recovery Rate')\n",
    "plt.show()"
   ]
  },
  {
   "cell_type": "code",
   "execution_count": null,
   "id": "a630025d-6898-4afa-b14b-2827bf19e363",
   "metadata": {},
   "outputs": [],
   "source": [
    "# calculate death rates for each province in Canada as of the data points"
   ]
  },
  {
   "cell_type": "code",
   "execution_count": null,
   "id": "83f43b75-5c67-4abe-8cd2-bd970aea8e7a",
   "metadata": {},
   "outputs": [],
   "source": [
    "import numpy as np\n",
    "import seaborn as sns\n",
    "deaths.head()"
   ]
  },
  {
   "cell_type": "code",
   "execution_count": null,
   "id": "ad28bcd2-b532-4150-abee-21558482e64f",
   "metadata": {},
   "outputs": [],
   "source": [
    "france_cases = confirmed_cases[confirmed_cases['Country/Region'] == 'France']\n",
    "france_deaths = deaths[deaths['Country/Region'] == 'France']\n",
    "\n",
    "france_cases = france_cases.groupby('Province/State').sum().iloc[:,4:].apply(pd.to_numeric, errors = 'coerce')\n",
    "france_deaths = france_deaths.groupby('Province/State').sum().iloc[:,4:].apply(pd.to_numeric, errors = 'coerce')"
   ]
  },
  {
   "cell_type": "code",
   "execution_count": null,
   "id": "ae453b19-b83f-4667-9918-1cfcb3d95614",
   "metadata": {},
   "outputs": [],
   "source": [
    "latest_date = france_cases.columns[-1]"
   ]
  },
  {
   "cell_type": "code",
   "execution_count": null,
   "id": "2ffea3e3-249d-48c6-afd4-512effffa3ec",
   "metadata": {},
   "outputs": [],
   "source": [
    "latest_cases = france_cases[latest_date]\n",
    "latest_deaths = france_deaths[latest_date]"
   ]
  },
  {
   "cell_type": "code",
   "execution_count": null,
   "id": "76138c55-6bd2-4745-b715-0472d7012dc0",
   "metadata": {},
   "outputs": [],
   "source": [
    "death_rate = latest_deaths / latest_cases\n",
    "death_rate"
   ]
  },
  {
   "cell_type": "code",
   "execution_count": null,
   "id": "c898bb76-f2f0-49fb-9151-5b8fc0d6fe8a",
   "metadata": {},
   "outputs": [],
   "source": [
    "# we have to ensure latest case and latest death have same indexes\n",
    "common_provinces = latest_cases.index.intersection(latest_deaths.index)\n",
    "latest_cases = latest_cases.loc[common_provinces]\n",
    "latest_deaths = latest_deaths.loc[common_provinces]"
   ]
  },
  {
   "cell_type": "code",
   "execution_count": null,
   "id": "48b3e019-4466-4bea-a2bf-8ec201239576",
   "metadata": {},
   "outputs": [],
   "source": [
    "latest_cases = latest_cases.replace(0, np.nan)"
   ]
  },
  {
   "cell_type": "code",
   "execution_count": null,
   "id": "021673ce-360c-441b-90c0-fe1277186786",
   "metadata": {},
   "outputs": [],
   "source": [
    "death_rate = latest_deaths / latest_cases\n",
    "death_rate"
   ]
  },
  {
   "cell_type": "code",
   "execution_count": null,
   "id": "97e0a3e0-22c5-4ade-af60-1ee187d08955",
   "metadata": {},
   "outputs": [],
   "source": [
    "death_rate = death_rate.fillna(0)"
   ]
  },
  {
   "cell_type": "code",
   "execution_count": null,
   "id": "a381e437-62f3-4556-8fab-23273ef29ed5",
   "metadata": {},
   "outputs": [],
   "source": [
    "death_rate_df = pd.DataFrame({\n",
    "\"Province\": latest_cases.index,\n",
    "\"Total_cases\": latest_cases.values,\n",
    "\"Total_deaths\": latest_deaths.values,\n",
    "\"Death_Rate(%)\": (death_rate*100) .round(2)\n",
    "})"
   ]
  },
  {
   "cell_type": "code",
   "execution_count": null,
   "id": "adec2992-76d9-40d6-81c8-9015f47afabf",
   "metadata": {},
   "outputs": [],
   "source": [
    "death_rate_df"
   ]
  },
  {
   "cell_type": "code",
   "execution_count": null,
   "id": "a77e7060-f0e6-4b12-bc9f-d4b1d4e6466b",
   "metadata": {},
   "outputs": [],
   "source": [
    "# horizontal bar chart\n",
    "\n",
    "plt.figure(figsize=(10, 8))\n",
    "plt.barh(death_rate_df['Province'], death_rate_df['Death_Rate(%)'], color='skyblue')\n",
    "plt.xlabel('Death Rate (%)')\n",
    "plt.ylabel('Province')\n",
    "plt.title('COVID-19 Death Rate by Province in France')\n",
    "plt.show()\n"
   ]
  },
  {
   "cell_type": "code",
   "execution_count": null,
   "id": "9d91cfe3-7501-42c3-84b2-92035e32969a",
   "metadata": {
    "scrolled": true
   },
   "outputs": [],
   "source": [
    "france_cases = confirmed_cases[confirmed_cases['Country/Region'] == 'France']\n",
    "france_deaths = deaths[deaths['Country/Region'] == 'France']\n",
    "\n",
    "france_cases = france_cases.groupby('Province/State').sum().iloc[:,4:].apply(pd.to_numeric, errors = 'coerce')\n",
    "france_deaths = france_deaths.groupby('Province/State').sum().iloc[:,4:].apply(pd.to_numeric, errors = 'coerce')\n",
    "\n",
    "latest_date = france_cases.columns[-1]\n",
    "\n",
    "latest_cases = france_cases[latest_date]\n",
    "latest_cases = latest_cases.replace(0, np.nan)     # so that we do not get any kind of Zero division error while calculating death rate\n",
    "\n",
    "latest_deaths = france_deaths[latest_date]\n",
    "\n",
    "# to get the common districts in latest_cases and latest_deaths so that both the arrays have same number of values\n",
    "\n",
    "common_provinces = latest_cases.index.intersection(latest_deaths.index) \n",
    "latest_cases = latest_cases.loc[common_provinces]\n",
    "latest_deaths = latest_deaths.loc[common_provinces]\n",
    "\n",
    "death_rate = latest_deaths / latest_cases\n",
    "death_rate = death_rate.fillna(0) # for any null value in death rate\n",
    "\n",
    "death_rate_df = pd.DataFrame({\n",
    "\"Province\": latest_cases.index,\n",
    "\"Total_cases\": latest_cases.values,\n",
    "\"Total_deaths\": latest_deaths.values,\n",
    "\"Death_Rate(%)\": (death_rate*100) .round(2)\n",
    "})\n",
    "death_rate_df = death_rate_df.sort_values(by=\"Death_Rate(%)\", ascending=True)\n",
    "\n",
    "# horizontal bar chart\n",
    "\n",
    "plt.figure(figsize=(10, 8))\n",
    "plt.barh(death_rate_df['Province'], death_rate_df['Death_Rate(%)'], color='skyblue')\n",
    "plt.xlabel('Death Rate (%)')\n",
    "plt.ylabel('Province')\n",
    "plt.title('COVID-19 Death Rate by Province in France')\n",
    "plt.show()"
   ]
  },
  {
   "cell_type": "code",
   "execution_count": null,
   "id": "9dd7c348-ff5f-41a7-b848-7309d1d7ecdd",
   "metadata": {},
   "outputs": [],
   "source": [
    "france_cases = confirmed_cases[confirmed_cases['Country/Region'] == 'France']\n",
    "france_deaths = deaths[deaths['Country/Region'] == 'France']\n",
    "\n",
    "france_cases = france_cases.groupby('Province/State').sum().iloc[:,4:].apply(pd.to_numeric, errors = 'coerce')\n",
    "france_deaths = france_deaths.groupby('Province/State').sum().iloc[:,4:].apply(pd.to_numeric, errors = 'coerce')\n",
    "\n",
    "latest_date = france_cases.columns[-1]\n",
    "\n",
    "latest_cases = france_cases[latest_date]\n",
    "\n",
    "latest_deaths = france_deaths[latest_date]\n",
    "\n",
    "\n",
    "latest_cases, latest_deaths = latest_cases.align(latest_deaths, fill_value = 0)\n",
    "death_rate = latest_deaths / latest_cases\n",
    "death_rate = death_rate.fillna(0)\n",
    "\n",
    "death_rate_df = pd.DataFrame({\n",
    "\"Province\": latest_cases.index,\n",
    "\"Total_cases\": latest_cases.values,\n",
    "\"Total_deaths\": latest_deaths.values,\n",
    "\"Death_Rate(%)\": (death_rate*100) .round(2)\n",
    "})\n",
    "\n",
    "death_rate_df = death_rate_df.sort_values(by=\"Death_Rate(%)\", ascending=True)\n",
    "\n",
    "plt.figure(figsize=(10, 8))\n",
    "plt.barh(death_rate_df['Province'], death_rate_df['Death_Rate(%)'], color='skyblue')\n",
    "plt.xlabel('Death Rate (%)')\n",
    "plt.ylabel('Province')\n",
    "plt.title('COVID-19 Death Rate by Province in France')\n",
    "plt.show()"
   ]
  },
  {
   "cell_type": "code",
   "execution_count": null,
   "id": "2c95d21e-b531-441e-a1b1-0b3bafa54177",
   "metadata": {},
   "outputs": [],
   "source": [
    "latest_deaths"
   ]
  },
  {
   "cell_type": "code",
   "execution_count": null,
   "id": "ee15f2f9-c3fd-4007-90a3-8f7ccf3913f7",
   "metadata": {},
   "outputs": [],
   "source": [
    "death_rate_df = death_rate_df.sort_values(by=\"Death_Rate(%)\", ascending=False)\n",
    "plt.figure(figsize=(10, 8))\n",
    "plt.bar(death_rate_df['Province'], death_rate_df['Death_Rate(%)'], color='blue')\n",
    "plt.xlabel('Death Rate (%)')\n",
    "plt.ylabel('Province')\n",
    "plt.xticks(rotation=45)\n",
    "plt.title('COVID-19 Death Rate by Province in France')\n",
    "plt.show()"
   ]
  },
  {
   "cell_type": "code",
   "execution_count": null,
   "id": "7d6f3339-eed9-4fcc-b898-b18576ba454f",
   "metadata": {},
   "outputs": [],
   "source": [
    "confirmed_cases.head()"
   ]
  },
  {
   "cell_type": "code",
   "execution_count": null,
   "id": "28d9f2e3-43e3-47df-92da-b9e930449dad",
   "metadata": {},
   "outputs": [],
   "source": [
    "confirmed_cases_unpivot = confirmed_cases.melt(id_vars=[\"Province/State\",\"Country/Region\",\"Lat\",\"Long\"], var_name = \"Date\",value_name = \"Deaths\")"
   ]
  },
  {
   "cell_type": "code",
   "execution_count": null,
   "id": "8f487c08-5ad6-407f-8c20-ca8255ca1571",
   "metadata": {},
   "outputs": [],
   "source": [
    "confirmed_cases_unpivot"
   ]
  },
  {
   "cell_type": "code",
   "execution_count": null,
   "id": "5c293bcf-0966-4a1e-bca5-3e3dac5eabd1",
   "metadata": {},
   "outputs": [],
   "source": [
    "confirmed_cases_unpivot.shape"
   ]
  },
  {
   "cell_type": "code",
   "execution_count": null,
   "id": "4089e06f-d741-46f6-9b91-d6340a3a50b6",
   "metadata": {},
   "outputs": [],
   "source": [
    "confirmed_cases_unpivot[confirmed_cases_unpivot[\"Country/Region\"]== \"Afghanistan\"]"
   ]
  },
  {
   "cell_type": "markdown",
   "id": "2f12d7e3-17c3-4612-a6f0-be33699ead24",
   "metadata": {},
   "source": [
    "# calculate total recoveries and deaths in South Africa"
   ]
  },
  {
   "cell_type": "code",
   "execution_count": null,
   "id": "8bbf33c8-d3a5-406b-b34e-ab1a7775f592",
   "metadata": {},
   "outputs": [],
   "source": [
    "recovered_cases.head()"
   ]
  },
  {
   "cell_type": "code",
   "execution_count": null,
   "id": "c186258c-2382-4408-93a8-406c60e57519",
   "metadata": {},
   "outputs": [],
   "source": [
    "deaths.head().reset_index(drop=True)"
   ]
  },
  {
   "cell_type": "code",
   "execution_count": null,
   "id": "f82ac2b7-c1cd-4b22-b72d-0793511c4920",
   "metadata": {},
   "outputs": [],
   "source": [
    "SA_recovery_data = recovered_cases[recovered_cases['Country/Region']== \"South Africa\"]\n",
    "SA_recovery_data "
   ]
  },
  {
   "cell_type": "code",
   "execution_count": null,
   "id": "68e82d57-1b1a-4c20-b73a-a8c0a46cb9bd",
   "metadata": {},
   "outputs": [],
   "source": [
    "total_recoveries = SA_recovery_data.iloc[:,4:].sum().fillna(0)\n",
    "total_recoveries"
   ]
  },
  {
   "cell_type": "code",
   "execution_count": null,
   "id": "e06a32c4-57f5-4f53-93c3-baeb5d086e7d",
   "metadata": {},
   "outputs": [],
   "source": [
    "SA_death_data = deaths[deaths['Country/Region']== \"South Africa\"]\n",
    "SA_death_data "
   ]
  },
  {
   "cell_type": "code",
   "execution_count": null,
   "id": "26434f9a-c912-496c-a160-dc2176259e59",
   "metadata": {},
   "outputs": [],
   "source": [
    "total_deaths = SA_death_data.iloc[:,4:].sum().fillna(0)\n"
   ]
  },
  {
   "cell_type": "code",
   "execution_count": null,
   "id": "83274be4-3cdb-43c2-977b-8386f6b0fac8",
   "metadata": {},
   "outputs": [],
   "source": [
    "print(total_deaths)"
   ]
  },
  {
   "cell_type": "code",
   "execution_count": null,
   "id": "7615cf4c-3abe-48da-b27c-e96627341921",
   "metadata": {},
   "outputs": [],
   "source": []
  },
  {
   "cell_type": "code",
   "execution_count": null,
   "id": "6d2b384f-93cc-4a99-9485-b2ed54450106",
   "metadata": {},
   "outputs": [],
   "source": []
  },
  {
   "cell_type": "code",
   "execution_count": null,
   "id": "4e8d0e32-cf23-463d-a855-3ad82694afa2",
   "metadata": {},
   "outputs": [],
   "source": []
  }
 ],
 "metadata": {
  "kernelspec": {
   "display_name": "Python 3 (ipykernel)",
   "language": "python",
   "name": "python3"
  },
  "language_info": {
   "codemirror_mode": {
    "name": "ipython",
    "version": 3
   },
   "file_extension": ".py",
   "mimetype": "text/x-python",
   "name": "python",
   "nbconvert_exporter": "python",
   "pygments_lexer": "ipython3",
   "version": "3.12.7"
  }
 },
 "nbformat": 4,
 "nbformat_minor": 5
}
